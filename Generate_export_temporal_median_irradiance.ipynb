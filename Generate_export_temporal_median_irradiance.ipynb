{
 "cells": [
  {
   "cell_type": "markdown",
   "id": "eff333a7-0b26-4e73-8311-387fda764fdb",
   "metadata": {},
   "source": [
    "# Generate Seasonal Medians of Solar Irradiace Across Australia\n",
    "\n",
    "* **Products used:**\n",
    "[Solar Irradiance](https://dapds00.nci.org.au/thredds/catalog/rv74/satellite-products/arc/der/himawari-ahi/solar/p1d/latest/catalog.html)"
   ]
  },
  {
   "cell_type": "markdown",
   "id": "3489652c-fc04-4eff-bd57-85e69ac4c690",
   "metadata": {},
   "source": [
    "## Background\n",
    "\n",
    "Surface solar irradiance measurements are increasingly critical to the solar energy industry and are important to evaluate weather and climate model.Solar irradiance is the power per unit area received from the sun in the form of electromagnetic radiation measured in Watt per square metre (W/m2). \n",
    "\n",
    "Bureau of Meteorology (BoM) employed the Heliosat-4 radiation model (Qu et al, 2017) as implemented by Mines ParisTech (Gschwind et. al., 2020) to estimate downwelling solar radiation parameters. Heliosat-4 uses estimates of cloud properties derived from satellite observations, estimates of aerosol optical depth, and forecasts of atmospheric ozone and water vapour to estimate instantaneous surface global solar irradiance, known as global horizontal irradiance (GHI) in units of W/m2. Heliosat-4 also produces estimates of the instantaneous intensity of surface direct horizontal irradiance (BHI) in units of W/m2, from which the solar direct beam radiation falling on a surface normal to the beam, known as the direct normal irradiance (DNI) with units W/m2 is calculated. The daily global solar exposure (also known as \"daily solar insolation\" or \"daily radiant exposure\") is the integral of surface downwelling shortwave flux in air during a day in units of megajoules per square metre (MJ/m2). \n",
    "\n",
    "For further detail on the solar irradiance products, please see the [Gridded satellite solar observations project: Implementation of Heliosat-4 and the application of bias correction](http://www.bom.gov.au/research/publications/researchreports/BRR-062.pdf) research report.  "
   ]
  },
  {
   "cell_type": "markdown",
   "id": "a8aef1f5-0ea6-4f9a-8fd3-607936cebef5",
   "metadata": {},
   "source": [
    "## Description\n",
    "\n",
    "This notebook demonstrates how to load, visualise and export medians of BoM's daily solar irradiance data for each three months within a year across Australia. It includes the following steps:\n",
    "1. Access daily solar irradiance products from NCI's THREDDS server and generate temporal aggregation\n",
    "2. Visualise the summarised solar irradiance measurements across Australia\n",
    "3. Export the summarised data as GeoTiff files\n",
    "\n",
    "***"
   ]
  },
  {
   "cell_type": "markdown",
   "id": "ff545ffb-252d-484c-bb31-df840b787b8c",
   "metadata": {},
   "source": [
    "## Getting started\n",
    "\n",
    "To run this analysis, run all the cells in the notebook, starting with the \"Load packages\" cell. "
   ]
  },
  {
   "cell_type": "markdown",
   "id": "c5b2d9de-8c96-477b-8da5-fb280e93529a",
   "metadata": {},
   "source": [
    "### Load packages\n",
    "Import Python packages that are used for the analysis."
   ]
  },
  {
   "cell_type": "code",
   "execution_count": 1,
   "id": "06be02cb-6655-4a95-abe3-c676d775ca1d",
   "metadata": {},
   "outputs": [],
   "source": [
    "%matplotlib inline\n",
    "import datacube\n",
    "import numpy as np\n",
    "import xarray as xr\n",
    "from matplotlib import pyplot as plt\n",
    "import pandas as pd\n",
    "from dea_tools.plotting import display_map, rgb\n",
    "from datacube.utils.cog import write_cog\n",
    "from load_solar_irradiance import load_summarise_solar_irradiance\n",
    "from pyproj import CRS"
   ]
  },
  {
   "cell_type": "markdown",
   "id": "ae76fda4-1a4c-49b5-a54c-f7174221491a",
   "metadata": {},
   "source": [
    "### Analysis parameters\n",
    "\n",
    "We define a few parameters for the data query and download:\n",
    "* lat_range: The latitude range to analyse, e.g. (-44.51,-10.101)\n",
    "* lon_range: The longitude range to analyse, e.g. (111.96,154.67).\n",
    "* time_range: The date range to analyse, e.g. ('2022-01-01', '2022-12-31')\n",
    "* timestep: timestep for temporal aggregation, e.g. '2m' for 2 months\n",
    "* var_names: List of product measurement names to query, e.g. ['daily_integral_of_surface_global_irradiance','daily_integral_of_direct_normal_irradiance'].  \n",
    "\n",
    "Here we define the latitude and longitude ranges to cover entire Australia:"
   ]
  },
  {
   "cell_type": "code",
   "execution_count": 2,
   "id": "10be9d4c-925d-4611-b1c4-917eeedfb880",
   "metadata": {},
   "outputs": [],
   "source": [
    "# Define the analysis region (Lat-Lon box)\n",
    "lat_range = (-43.651,-10.701)\n",
    "lon_range = (112.920,153.612)\n",
    "\n",
    "# Define the time window\n",
    "time_range = (\"2022-01-01\", \"2022-06-30\")\n",
    "\n",
    "timestep='3m'\n",
    "\n",
    "# Define measurements to query\n",
    "var_names=['daily_integral_of_surface_global_irradiance']"
   ]
  },
  {
   "cell_type": "markdown",
   "id": "b03cfddb-5da6-4a7d-a3f2-082ebba00a93",
   "metadata": {},
   "source": [
    "## View the queried location\n",
    "\n",
    "The solar farm is located in NSW:"
   ]
  },
  {
   "cell_type": "code",
   "execution_count": 3,
   "id": "a0300b8b-00fc-4716-b4e8-d9a60bbedc4d",
   "metadata": {
    "tags": []
   },
   "outputs": [
    {
     "data": {
      "text/html": [
       "<div style=\"width:100%;\"><div style=\"position:relative;width:100%;height:0;padding-bottom:60%;\"><span style=\"color:#565656\">Make this Notebook Trusted to load map: File -> Trust Notebook</span><iframe srcdoc=\"&lt;!DOCTYPE html&gt;\n",
       "&lt;html&gt;\n",
       "&lt;head&gt;\n",
       "    \n",
       "    &lt;meta http-equiv=&quot;content-type&quot; content=&quot;text/html; charset=UTF-8&quot; /&gt;\n",
       "    \n",
       "        &lt;script&gt;\n",
       "            L_NO_TOUCH = false;\n",
       "            L_DISABLE_3D = false;\n",
       "        &lt;/script&gt;\n",
       "    \n",
       "    &lt;style&gt;html, body {width: 100%;height: 100%;margin: 0;padding: 0;}&lt;/style&gt;\n",
       "    &lt;style&gt;#map {position:absolute;top:0;bottom:0;right:0;left:0;}&lt;/style&gt;\n",
       "    &lt;script src=&quot;https://cdn.jsdelivr.net/npm/leaflet@1.9.3/dist/leaflet.js&quot;&gt;&lt;/script&gt;\n",
       "    &lt;script src=&quot;https://code.jquery.com/jquery-1.12.4.min.js&quot;&gt;&lt;/script&gt;\n",
       "    &lt;script src=&quot;https://cdn.jsdelivr.net/npm/bootstrap@5.2.2/dist/js/bootstrap.bundle.min.js&quot;&gt;&lt;/script&gt;\n",
       "    &lt;script src=&quot;https://cdnjs.cloudflare.com/ajax/libs/Leaflet.awesome-markers/2.0.2/leaflet.awesome-markers.js&quot;&gt;&lt;/script&gt;\n",
       "    &lt;link rel=&quot;stylesheet&quot; href=&quot;https://cdn.jsdelivr.net/npm/leaflet@1.9.3/dist/leaflet.css&quot;/&gt;\n",
       "    &lt;link rel=&quot;stylesheet&quot; href=&quot;https://cdn.jsdelivr.net/npm/bootstrap@5.2.2/dist/css/bootstrap.min.css&quot;/&gt;\n",
       "    &lt;link rel=&quot;stylesheet&quot; href=&quot;https://netdna.bootstrapcdn.com/bootstrap/3.0.0/css/bootstrap.min.css&quot;/&gt;\n",
       "    &lt;link rel=&quot;stylesheet&quot; href=&quot;https://cdn.jsdelivr.net/npm/@fortawesome/fontawesome-free@6.2.0/css/all.min.css&quot;/&gt;\n",
       "    &lt;link rel=&quot;stylesheet&quot; href=&quot;https://cdnjs.cloudflare.com/ajax/libs/Leaflet.awesome-markers/2.0.2/leaflet.awesome-markers.css&quot;/&gt;\n",
       "    &lt;link rel=&quot;stylesheet&quot; href=&quot;https://cdn.jsdelivr.net/gh/python-visualization/folium/folium/templates/leaflet.awesome.rotate.min.css&quot;/&gt;\n",
       "    \n",
       "            &lt;meta name=&quot;viewport&quot; content=&quot;width=device-width,\n",
       "                initial-scale=1.0, maximum-scale=1.0, user-scalable=no&quot; /&gt;\n",
       "            &lt;style&gt;\n",
       "                #map_ab627924be7091db46b0e7eaed9ef2a0 {\n",
       "                    position: relative;\n",
       "                    width: 100.0%;\n",
       "                    height: 100.0%;\n",
       "                    left: 0.0%;\n",
       "                    top: 0.0%;\n",
       "                }\n",
       "                .leaflet-container { font-size: 1rem; }\n",
       "            &lt;/style&gt;\n",
       "        \n",
       "&lt;/head&gt;\n",
       "&lt;body&gt;\n",
       "    \n",
       "    \n",
       "            &lt;div class=&quot;folium-map&quot; id=&quot;map_ab627924be7091db46b0e7eaed9ef2a0&quot; &gt;&lt;/div&gt;\n",
       "        \n",
       "&lt;/body&gt;\n",
       "&lt;script&gt;\n",
       "    \n",
       "    \n",
       "            var map_ab627924be7091db46b0e7eaed9ef2a0 = L.map(\n",
       "                &quot;map_ab627924be7091db46b0e7eaed9ef2a0&quot;,\n",
       "                {\n",
       "                    center: [-27.176000000000002, 133.266],\n",
       "                    crs: L.CRS.EPSG3857,\n",
       "                    zoom: 4,\n",
       "                    zoomControl: true,\n",
       "                    preferCanvas: false,\n",
       "                }\n",
       "            );\n",
       "\n",
       "            \n",
       "\n",
       "        \n",
       "    \n",
       "            var tile_layer_19b327e350dc02208af00b5b6884f62f = L.tileLayer(\n",
       "                &quot;http://mt1.google.com/vt/lyrs=y\\u0026z={z}\\u0026x={x}\\u0026y={y}&quot;,\n",
       "                {&quot;attribution&quot;: &quot;Google&quot;, &quot;detectRetina&quot;: false, &quot;maxNativeZoom&quot;: 18, &quot;maxZoom&quot;: 18, &quot;minZoom&quot;: 0, &quot;noWrap&quot;: false, &quot;opacity&quot;: 1, &quot;subdomains&quot;: &quot;abc&quot;, &quot;tms&quot;: false}\n",
       "            ).addTo(map_ab627924be7091db46b0e7eaed9ef2a0);\n",
       "        \n",
       "    \n",
       "            var poly_line_354a20c8d477ef48daa2dd696e8dd064 = L.polyline(\n",
       "                [[-43.651, 112.92], [-43.651, 153.612], [-10.701, 153.612], [-10.701, 112.92], [-43.651, 112.92]],\n",
       "                {&quot;bubblingMouseEvents&quot;: true, &quot;color&quot;: &quot;red&quot;, &quot;dashArray&quot;: null, &quot;dashOffset&quot;: null, &quot;fill&quot;: false, &quot;fillColor&quot;: &quot;red&quot;, &quot;fillOpacity&quot;: 0.2, &quot;fillRule&quot;: &quot;evenodd&quot;, &quot;lineCap&quot;: &quot;round&quot;, &quot;lineJoin&quot;: &quot;round&quot;, &quot;noClip&quot;: false, &quot;opacity&quot;: 0.8, &quot;smoothFactor&quot;: 1.0, &quot;stroke&quot;: true, &quot;weight&quot;: 3}\n",
       "            ).addTo(map_ab627924be7091db46b0e7eaed9ef2a0);\n",
       "        \n",
       "    \n",
       "                var lat_lng_popup_d6f3eb80a9b505a352383535d27fda38 = L.popup();\n",
       "                function latLngPop(e) {\n",
       "                    lat_lng_popup_d6f3eb80a9b505a352383535d27fda38\n",
       "                        .setLatLng(e.latlng)\n",
       "                        .setContent(&quot;Latitude: &quot; + e.latlng.lat.toFixed(4) +\n",
       "                                    &quot;&lt;br&gt;Longitude: &quot; + e.latlng.lng.toFixed(4))\n",
       "                        .openOn(map_ab627924be7091db46b0e7eaed9ef2a0);\n",
       "                    }\n",
       "                map_ab627924be7091db46b0e7eaed9ef2a0.on(&#x27;click&#x27;, latLngPop);\n",
       "            \n",
       "&lt;/script&gt;\n",
       "&lt;/html&gt;\" style=\"position:absolute;width:100%;height:100%;left:0;top:0;border:none !important;\" allowfullscreen webkitallowfullscreen mozallowfullscreen></iframe></div></div>"
      ],
      "text/plain": [
       "<folium.folium.Map at 0x7fb06c613190>"
      ]
     },
     "execution_count": 3,
     "metadata": {},
     "output_type": "execute_result"
    }
   ],
   "source": [
    "display_map(x=lon_range, y=lat_range)"
   ]
  },
  {
   "cell_type": "markdown",
   "id": "b90666de-17a5-4d6a-926a-8f1252c817e6",
   "metadata": {},
   "source": [
    "## Load data and generate seasonal medians\n",
    "\n",
    "We create and use a function `load_summarise_solar_irradiance` to load the daily irradiance data and generate medians for each three-month season using the previously defined parameters. After the loading and generation is complete we print out the loaded dataset. Note this may take up to a few minutes to finish."
   ]
  },
  {
   "cell_type": "code",
   "execution_count": null,
   "id": "4fb5e34e-6df8-46c5-b043-b3c54eb123c5",
   "metadata": {},
   "outputs": [
    {
     "name": "stdout",
     "output_type": "stream",
     "text": [
      "Loading daily observations...\n"
     ]
    },
    {
     "name": "stderr",
     "output_type": "stream",
     "text": [
      "100%|██████████| 181/181 [01:07<00:00,  2.68it/s]\n"
     ]
    },
    {
     "name": "stdout",
     "output_type": "stream",
     "text": [
      "merging dataset...\n"
     ]
    }
   ],
   "source": [
    "%%time\n",
    "# Retrieve surface soil moisture using query parameters\n",
    "mean_solar_irrd = load_summarise_solar_irradiance(lat_range, lon_range, time_range, var_names,timestep)\n",
    "mean_solar_irrd"
   ]
  },
  {
   "cell_type": "markdown",
   "id": "c24f945c-e6f9-4421-81a5-2dd6112826e8",
   "metadata": {},
   "source": [
    "### Plot the seasonal medians\n",
    "\n",
    "We can plot the temporal medians to compare across different seasons:"
   ]
  },
  {
   "cell_type": "code",
   "execution_count": null,
   "id": "3b2ba5a9-6363-4685-bd08-024a4601e4bf",
   "metadata": {
    "tags": []
   },
   "outputs": [],
   "source": [
    "mean_solar_irrd.daily_integral_of_surface_global_irradiance.plot(col='time')"
   ]
  },
  {
   "cell_type": "markdown",
   "id": "a4792727-9d8a-49f9-8c71-887bc1f74e39",
   "metadata": {},
   "source": [
    "### Export as Geotiff\n",
    "\n",
    "We can export the monthly data as GeoTIFF files to the disk using the datacube.utils.cog function`write_cog`:"
   ]
  },
  {
   "cell_type": "code",
   "execution_count": null,
   "id": "c302ea09-3430-467a-b3e6-230631850bc1",
   "metadata": {
    "tags": []
   },
   "outputs": [],
   "source": [
    "# Get the CRS\n",
    "crs=CRS.from_cf(mean_solar_irrd.crs.attrs)\n",
    "\n",
    "# assign crs\n",
    "if mean_solar_irrd.rio.crs is None:\n",
    "    mean_solar_irrd.rio.write_crs(crs, inplace=True)\n",
    "    \n",
    "# export as geotiff\n",
    "for i in range(len(mean_solar_irrd.time)):\n",
    "\n",
    "    # We will use the date of the satellite image to name the GeoTIFF\n",
    "    date = mean_solar_irrd.isel(time=i).time.dt.strftime('%Y-%m').data\n",
    "    print(f'Writing {date}')\n",
    "\n",
    "    # Convert current time step into a `xarray.DataArray`\n",
    "    singletimestamp_da = mean_solar_irrd.isel(time=i).to_array()\n",
    "\n",
    "    # Write GeoTIFF\n",
    "    write_cog(singletimestamp_da,\n",
    "              fname=f'{date}.tif',\n",
    "              overwrite=True)"
   ]
  },
  {
   "cell_type": "markdown",
   "id": "b7368347-f73c-4afc-8b61-8c07530efe48",
   "metadata": {},
   "source": [
    "## Next steps\n",
    "\n",
    "When you are done, if you would like to do the analysis for another location or time range, return to the \"Analysis parameters\" cell, modify the parameters and rerun the analysis."
   ]
  },
  {
   "cell_type": "markdown",
   "id": "37cc2364-969c-46e5-9633-a5a54e8a70ba",
   "metadata": {},
   "source": [
    "***\n",
    "\n",
    "## Additional information\n",
    "\n",
    "**License:** The code in this notebook and its dependent modules is licensed under the [CC BY-NC 4.0](https://creativecommons.org/licenses/by-nc/4.0/) license. \n",
    "Digital Earth Australia data is licensed under the [Creative Commons by Attribution 4.0](https://creativecommons.org/licenses/by/4.0/) license.\n",
    "\n",
    "**Contact:** If you need assistance, please post a question on the [Open Data Cube Slack channel](http://slack.opendatacube.org/) or on the [GIS Stack Exchange](https://gis.stackexchange.com/questions/ask?tags=open-data-cube) using the `open-data-cube` tag (you can view previously asked questions [here](https://gis.stackexchange.com/questions/tagged/open-data-cube)).\n",
    "If you would like to report an issue with this notebook, you can file one on [Github](https://github.com/GeoscienceAustralia/dea-notebooks).\n",
    "\n",
    "**Last modified:** August 2023\n",
    "\n",
    "**Compatible datacube version:** "
   ]
  },
  {
   "cell_type": "code",
   "execution_count": null,
   "id": "508836ea-3362-4c3a-8198-a7406a0eaac3",
   "metadata": {
    "tags": []
   },
   "outputs": [],
   "source": [
    "print(datacube.__version__)"
   ]
  },
  {
   "cell_type": "markdown",
   "id": "37f4b260-54ab-4cb9-9647-8871145bd84d",
   "metadata": {},
   "source": [
    "## Tags\n",
    "Browse all available tags on the DEA User Guide's [Tags Index](https://docs.dea.ga.gov.au/genindex.html)"
   ]
  },
  {
   "cell_type": "raw",
   "id": "6b1bf334-5c39-42ac-8eab-c932d38e6923",
   "metadata": {},
   "source": [
    "**Tags**: :index:`Solar Irradiance`, :index:`THREDDS`, :index:`Himawari-AHI`, :index:`OPeNDAP`"
   ]
  }
 ],
 "metadata": {
  "kernelspec": {
   "display_name": "Python 3 (ipykernel)",
   "language": "python",
   "name": "python3"
  },
  "language_info": {
   "codemirror_mode": {
    "name": "ipython",
    "version": 3
   },
   "file_extension": ".py",
   "mimetype": "text/x-python",
   "name": "python",
   "nbconvert_exporter": "python",
   "pygments_lexer": "ipython3",
   "version": "3.8.10"
  }
 },
 "nbformat": 4,
 "nbformat_minor": 5
}
